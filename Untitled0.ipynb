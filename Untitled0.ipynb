{
 "cells": [
  {
   "cell_type": "markdown",
   "id": "6bfb2964",
   "metadata": {},
   "source": [
    "# World Bank Science and Technology Data Analysis"
   ]
  },
  {
   "cell_type": "markdown",
   "id": "77038f07",
   "metadata": {},
   "source": [
    "### Importing the Data"
   ]
  },
  {
   "cell_type": "code",
   "execution_count": 2,
   "id": "adcdc1af",
   "metadata": {},
   "outputs": [],
   "source": [
    "import pandas as pd"
   ]
  },
  {
   "cell_type": "code",
   "execution_count": 13,
   "id": "1bcd4083",
   "metadata": {},
   "outputs": [],
   "source": [
    "st_data_2018 = pd.read_csv('science_tech_2018.csv')\n",
    "st_data_2009 = pd.read_csv('science_tech_2009.csv')\n"
   ]
  },
  {
   "cell_type": "code",
   "execution_count": 12,
   "id": "c67eeb15",
   "metadata": {},
   "outputs": [
    {
     "data": {
      "text/html": [
       "<div>\n",
       "<style scoped>\n",
       "    .dataframe tbody tr th:only-of-type {\n",
       "        vertical-align: middle;\n",
       "    }\n",
       "\n",
       "    .dataframe tbody tr th {\n",
       "        vertical-align: top;\n",
       "    }\n",
       "\n",
       "    .dataframe thead th {\n",
       "        text-align: right;\n",
       "    }\n",
       "</style>\n",
       "<table border=\"1\" class=\"dataframe\">\n",
       "  <thead>\n",
       "    <tr style=\"text-align: right;\">\n",
       "      <th></th>\n",
       "      <th>Country Name</th>\n",
       "      <th>High-technology exports (% of manufactured exports)</th>\n",
       "      <th>High-technology exports (current US$)</th>\n",
       "      <th>Trademark applications, total</th>\n",
       "      <th>Trademark applications, direct resident</th>\n",
       "      <th>Trademark applications, direct nonresident</th>\n",
       "      <th>Patent applications, residents</th>\n",
       "      <th>Patent applications, nonresidents</th>\n",
       "      <th>Scientific and technical journal articles</th>\n",
       "      <th>Research and development expenditure (% of GDP)</th>\n",
       "    </tr>\n",
       "  </thead>\n",
       "  <tbody>\n",
       "    <tr>\n",
       "      <th>0</th>\n",
       "      <td>Afghanistan</td>\n",
       "      <td>NaN</td>\n",
       "      <td>NaN</td>\n",
       "      <td>NaN</td>\n",
       "      <td>NaN</td>\n",
       "      <td>NaN</td>\n",
       "      <td>NaN</td>\n",
       "      <td>NaN</td>\n",
       "      <td>26.30</td>\n",
       "      <td>NaN</td>\n",
       "    </tr>\n",
       "    <tr>\n",
       "      <th>1</th>\n",
       "      <td>Albania</td>\n",
       "      <td>1.328024</td>\n",
       "      <td>10128935.0</td>\n",
       "      <td>3456.0</td>\n",
       "      <td>213.0</td>\n",
       "      <td>3243.0</td>\n",
       "      <td>NaN</td>\n",
       "      <td>361.0</td>\n",
       "      <td>70.35</td>\n",
       "      <td>NaN</td>\n",
       "    </tr>\n",
       "    <tr>\n",
       "      <th>2</th>\n",
       "      <td>Algeria</td>\n",
       "      <td>0.653887</td>\n",
       "      <td>4616076.0</td>\n",
       "      <td>5345.0</td>\n",
       "      <td>NaN</td>\n",
       "      <td>NaN</td>\n",
       "      <td>NaN</td>\n",
       "      <td>NaN</td>\n",
       "      <td>2135.32</td>\n",
       "      <td>NaN</td>\n",
       "    </tr>\n",
       "  </tbody>\n",
       "</table>\n",
       "</div>"
      ],
      "text/plain": [
       "  Country Name  High-technology exports (% of manufactured exports)  \\\n",
       "0  Afghanistan                                                NaN     \n",
       "1      Albania                                           1.328024     \n",
       "2      Algeria                                           0.653887     \n",
       "\n",
       "   High-technology exports (current US$)  Trademark applications, total  \\\n",
       "0                                    NaN                            NaN   \n",
       "1                             10128935.0                         3456.0   \n",
       "2                              4616076.0                         5345.0   \n",
       "\n",
       "   Trademark applications, direct resident  \\\n",
       "0                                      NaN   \n",
       "1                                    213.0   \n",
       "2                                      NaN   \n",
       "\n",
       "   Trademark applications, direct nonresident  Patent applications, residents  \\\n",
       "0                                         NaN                             NaN   \n",
       "1                                      3243.0                             NaN   \n",
       "2                                         NaN                             NaN   \n",
       "\n",
       "   Patent applications, nonresidents  \\\n",
       "0                                NaN   \n",
       "1                              361.0   \n",
       "2                                NaN   \n",
       "\n",
       "   Scientific and technical journal articles  \\\n",
       "0                                      26.30   \n",
       "1                                      70.35   \n",
       "2                                    2135.32   \n",
       "\n",
       "   Research and development expenditure (% of GDP)  \n",
       "0                                              NaN  \n",
       "1                                              NaN  \n",
       "2                                              NaN  "
      ]
     },
     "execution_count": 12,
     "metadata": {},
     "output_type": "execute_result"
    }
   ],
   "source": [
    "st_data_2018.head(3)"
   ]
  },
  {
   "cell_type": "code",
   "execution_count": 20,
   "id": "7fd85760",
   "metadata": {},
   "outputs": [
    {
     "data": {
      "text/plain": [
       "(219, 10)"
      ]
     },
     "execution_count": 20,
     "metadata": {},
     "output_type": "execute_result"
    }
   ],
   "source": [
    "st_data_2018.shape\n"
   ]
  },
  {
   "cell_type": "code",
   "execution_count": 21,
   "id": "c43251b7",
   "metadata": {},
   "outputs": [
    {
     "data": {
      "text/plain": [
       "(219, 10)"
      ]
     },
     "execution_count": 21,
     "metadata": {},
     "output_type": "execute_result"
    }
   ],
   "source": [
    "st_data_2009.shape"
   ]
  },
  {
   "cell_type": "code",
   "execution_count": 22,
   "id": "dc761b6e",
   "metadata": {},
   "outputs": [
    {
     "data": {
      "text/plain": [
       "2190"
      ]
     },
     "execution_count": 22,
     "metadata": {},
     "output_type": "execute_result"
    }
   ],
   "source": [
    "st_data_2009.size"
   ]
  },
  {
   "cell_type": "code",
   "execution_count": 23,
   "id": "8f636a4c",
   "metadata": {},
   "outputs": [
    {
     "data": {
      "text/plain": [
       "2190"
      ]
     },
     "execution_count": 23,
     "metadata": {},
     "output_type": "execute_result"
    }
   ],
   "source": [
    "st_data_2018.size"
   ]
  },
  {
   "cell_type": "code",
   "execution_count": 10,
   "id": "6f1edb5d",
   "metadata": {},
   "outputs": [
    {
     "data": {
      "text/plain": [
       "Index(['Country Name', 'High-technology exports (% of manufactured exports)',\n",
       "       'High-technology exports (current US$)',\n",
       "       'Trademark applications, total',\n",
       "       'Trademark applications, direct resident',\n",
       "       'Trademark applications, direct nonresident',\n",
       "       'Patent applications, residents', 'Patent applications, nonresidents',\n",
       "       'Scientific and technical journal articles',\n",
       "       'Research and development expenditure (% of GDP)'],\n",
       "      dtype='object')"
      ]
     },
     "execution_count": 10,
     "metadata": {},
     "output_type": "execute_result"
    }
   ],
   "source": [
    "st_data_2018.columns"
   ]
  },
  {
   "cell_type": "code",
   "execution_count": 24,
   "id": "1bed8b63",
   "metadata": {},
   "outputs": [
    {
     "data": {
      "text/plain": [
       "Index(['Country Name', 'High-technology exports (% of manufactured exports)',\n",
       "       'High-technology exports (current US$)',\n",
       "       'Trademark applications, total',\n",
       "       'Trademark applications, direct resident',\n",
       "       'Trademark applications, direct nonresident',\n",
       "       'Patent applications, residents', 'Patent applications, nonresidents',\n",
       "       'Scientific and technical journal articles',\n",
       "       'Research and development expenditure (% of GDP)'],\n",
       "      dtype='object')"
      ]
     },
     "execution_count": 24,
     "metadata": {},
     "output_type": "execute_result"
    }
   ],
   "source": [
    "st_data_2009.columns"
   ]
  },
  {
   "cell_type": "code",
   "execution_count": null,
   "id": "013c9aab",
   "metadata": {},
   "outputs": [],
   "source": []
  }
 ],
 "metadata": {
  "kernelspec": {
   "display_name": "Python 3",
   "language": "python",
   "name": "python3"
  },
  "language_info": {
   "codemirror_mode": {
    "name": "ipython",
    "version": 3
   },
   "file_extension": ".py",
   "mimetype": "text/x-python",
   "name": "python",
   "nbconvert_exporter": "python",
   "pygments_lexer": "ipython3",
   "version": "3.12.10"
  }
 },
 "nbformat": 4,
 "nbformat_minor": 5
}
